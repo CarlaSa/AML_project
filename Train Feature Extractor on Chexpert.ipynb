{
 "cells": [
  {
   "cell_type": "code",
   "execution_count": null,
   "id": "902701e3",
   "metadata": {
    "ExecuteTime": {
     "end_time": "2021-09-27T20:35:04.301536Z",
     "start_time": "2021-09-27T20:35:02.243871Z"
    }
   },
   "outputs": [],
   "source": [
    "import pandas as pd\n",
    "from sklearn.model_selection import train_test_split\n",
    "import os\n",
    "\n",
    "import torch\n",
    "import torch.nn as nn\n",
    "from torch.utils.data import DataLoader\n",
    "from torch.utils.data import Dataset\n",
    "\n",
    "\n",
    "import torchvision.transforms as transforms\n",
    "import torchvision\n",
    "\n",
    "from PIL import Image\n",
    "\n",
    "from network.feature_extractor import ResNet\n",
    "from network.feature_extractor import ResnetOriginal\n",
    "from network.training import PretrainTraining\n",
    "from network.dataset_chexpert import ChestXrayDataset\n",
    "\n",
    "random_seed = 42\n",
    "BATCH_SIZE = 4"
   ]
  },
  {
   "cell_type": "markdown",
   "id": "4bb49a7c",
   "metadata": {},
   "source": [
    "# Get data (chexpert)"
   ]
  },
  {
   "cell_type": "code",
   "execution_count": null,
   "id": "2f184b22",
   "metadata": {
    "ExecuteTime": {
     "end_time": "2021-09-27T20:35:04.308074Z",
     "start_time": "2021-09-27T20:35:04.304788Z"
    }
   },
   "outputs": [],
   "source": [
    "path_folder = \"/Users/carlasagebiel/Documents/AML_project/data/\"\n",
    "weight_path = \"/Users/carlasagebiel/Documents/AML_project/_weights\""
   ]
  },
  {
   "cell_type": "code",
   "execution_count": null,
   "id": "56e493c7",
   "metadata": {
    "ExecuteTime": {
     "end_time": "2021-09-27T20:35:04.313517Z",
     "start_time": "2021-09-27T20:35:04.310495Z"
    }
   },
   "outputs": [],
   "source": [
    "train_path = \"/Users/carlasagebiel/Documents/AML_project/_data/CheXpert-v1.0-small/train\"\n",
    "valid_path = \"/Users/carlasagebiel/Documents/AML_project/_data/CheXpert-v1.0-small/valid\""
   ]
  },
  {
   "cell_type": "code",
   "execution_count": null,
   "id": "3ab68ac0",
   "metadata": {
    "ExecuteTime": {
     "end_time": "2021-09-27T20:35:04.801636Z",
     "start_time": "2021-09-27T20:35:04.316126Z"
    }
   },
   "outputs": [],
   "source": [
    "train_data = pd.read_csv(\"/Users/carlasagebiel/Documents/AML_project/_data/CheXpert-v1.0-small/train.csv\")\n",
    "valid_data = pd.read_csv(\"/Users/carlasagebiel/Documents/AML_project/_data/CheXpert-v1.0-small/valid.csv\")"
   ]
  },
  {
   "cell_type": "code",
   "execution_count": null,
   "id": "da3810ef",
   "metadata": {
    "ExecuteTime": {
     "end_time": "2021-09-27T20:35:04.815800Z",
     "start_time": "2021-09-27T20:35:04.804269Z"
    }
   },
   "outputs": [],
   "source": [
    "LABELS = train_data.columns\n",
    "LABELS "
   ]
  },
  {
   "cell_type": "code",
   "execution_count": null,
   "id": "591f9eb1",
   "metadata": {
    "ExecuteTime": {
     "end_time": "2021-09-27T20:35:05.426278Z",
     "start_time": "2021-09-27T20:35:05.363631Z"
    }
   },
   "outputs": [],
   "source": [
    "train, test = train_test_split(train_data, test_size= 0.1, random_state = random_seed)"
   ]
  },
  {
   "cell_type": "code",
   "execution_count": null,
   "id": "a3f234e5",
   "metadata": {
    "ExecuteTime": {
     "end_time": "2021-09-27T20:37:05.720782Z",
     "start_time": "2021-09-27T20:37:05.595320Z"
    }
   },
   "outputs": [],
   "source": [
    "labels = ['Path', 'Enlarged Cardiomediastinum', 'Cardiomegaly', 'Lung Opacity',\n",
    "       'Lung Lesion', 'Edema', 'Consolidation', 'Pneumonia', 'Atelectasis',\n",
    "       'Pneumothorax','Support Devices']\n",
    "train_dataset = ChestXrayDataset(path_folder,train_data, labels)\n",
    "val_dataset = ChestXrayDataset(path_folder, valid_data, labels)"
   ]
  },
  {
   "cell_type": "code",
   "execution_count": null,
   "id": "fifteen-timeline",
   "metadata": {
    "ExecuteTime": {
     "end_time": "2021-09-27T20:39:20.895359Z",
     "start_time": "2021-09-27T20:39:20.876358Z"
    }
   },
   "outputs": [],
   "source": [
    "weights = train_dataset.get_loss_weights()"
   ]
  },
  {
   "cell_type": "code",
   "execution_count": null,
   "id": "88ce3eef",
   "metadata": {
    "ExecuteTime": {
     "end_time": "2021-09-27T20:37:07.010464Z",
     "start_time": "2021-09-27T20:37:07.005610Z"
    }
   },
   "outputs": [],
   "source": [
    "train_dataloader = DataLoader(train_dataset, batch_size=BATCH_SIZE, shuffle=True)\n",
    "val_dataloader = DataLoader(val_dataset, batch_size= BATCH_SIZE, shuffle = True)"
   ]
  },
  {
   "cell_type": "markdown",
   "id": "77946d42",
   "metadata": {},
   "source": [
    "# Get model"
   ]
  },
  {
   "cell_type": "code",
   "execution_count": null,
   "id": "3f71c95f",
   "metadata": {
    "ExecuteTime": {
     "end_time": "2021-09-27T20:38:34.730293Z",
     "start_time": "2021-09-27T20:38:34.552140Z"
    }
   },
   "outputs": [],
   "source": [
    "model = ResnetOriginal(type = \"resnet18\", shapes = [512, 128, 314], trainable_resnet = True, \n",
    "                       trainable_level=  4, sigmoid_activation=False)"
   ]
  },
  {
   "cell_type": "code",
   "execution_count": null,
   "id": "7a445953",
   "metadata": {
    "ExecuteTime": {
     "end_time": "2021-09-27T20:39:59.791870Z",
     "start_time": "2021-09-27T20:39:59.786507Z"
    }
   },
   "outputs": [],
   "source": [
    "loss = nn.BCEWithLogitsLoss(pos_weight=torch.tensor(weights))"
   ]
  },
  {
   "cell_type": "code",
   "execution_count": null,
   "id": "b7b8006a",
   "metadata": {
    "ExecuteTime": {
     "end_time": "2021-09-21T16:04:23.737161Z",
     "start_time": "2021-09-21T16:04:23.732658Z"
    },
    "scrolled": false
   },
   "outputs": [],
   "source": [
    "training = PretrainTraining(\"resnet18_example\", model, loss,\n",
    "                            batch_size= BATCH_SIZE, verbose_level= 2, path_dir = weight_path,\n",
    "                            data_trafo= False)"
   ]
  },
  {
   "cell_type": "code",
   "execution_count": null,
   "id": "901eaa7c",
   "metadata": {
    "ExecuteTime": {
     "end_time": "2021-09-21T16:07:22.991501Z",
     "start_time": "2021-09-21T16:04:23.739673Z"
    },
    "scrolled": true
   },
   "outputs": [],
   "source": [
    "training.train(3, train_dataloader)"
   ]
  }
 ],
 "metadata": {
  "kernelspec": {
   "display_name": "my-virtualenv-name",
   "language": "python",
   "name": "my-virtualenv-name"
  },
  "language_info": {
   "codemirror_mode": {
    "name": "ipython",
    "version": 3
   },
   "file_extension": ".py",
   "mimetype": "text/x-python",
   "name": "python",
   "nbconvert_exporter": "python",
   "pygments_lexer": "ipython3",
   "version": "3.9.6"
  }
 },
 "nbformat": 4,
 "nbformat_minor": 5
}
