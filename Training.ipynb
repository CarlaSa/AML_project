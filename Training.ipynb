{
 "cells": [
  {
   "cell_type": "code",
   "execution_count": null,
   "id": "968d96a6",
   "metadata": {
    "ExecuteTime": {
     "end_time": "2021-09-01T07:15:38.728202Z",
     "start_time": "2021-09-01T07:15:38.252348Z"
    }
   },
   "outputs": [],
   "source": [
    "import torch\n",
    "from torch.utils.data import Dataset, DataLoader"
   ]
  },
  {
   "cell_type": "markdown",
   "id": "46bab2a2",
   "metadata": {},
   "source": [
    "# Get Data"
   ]
  },
  {
   "cell_type": "code",
   "execution_count": null,
   "id": "ce85ffab",
   "metadata": {
    "ExecuteTime": {
     "end_time": "2021-09-01T07:15:39.516890Z",
     "start_time": "2021-09-01T07:15:38.731161Z"
    }
   },
   "outputs": [],
   "source": [
    "from datasets.image_dataset import ImageDataset, UniformImageDataset\n",
    "from datasets.study_dataset import StudyDataset\n",
    "from datasets.masked_image_study_labeled_dataset import MaskedImageStudyLabeledDataset\n",
    "\n",
    "from datasets.io import LoadDataset\n",
    "dataset = LoadDataset(\"data/masked_256\", label_dtype=bool, image_dtype = float)"
   ]
  },
  {
   "cell_type": "code",
   "execution_count": null,
   "id": "5fa55edd",
   "metadata": {
    "ExecuteTime": {
     "end_time": "2021-09-01T07:15:39.528558Z",
     "start_time": "2021-09-01T07:15:39.523731Z"
    }
   },
   "outputs": [],
   "source": [
    "# get good split of dataset -> dividable by batch_size\n",
    "batch_size = 64\n",
    "l = len(dataset)\n",
    "x = l // (batch_size *6 )\n",
    "split = [x * batch_size * 5, l - x * batch_size * 5]\n",
    "split\n",
    "train_set, val_set = torch.utils.data.random_split(dataset, split)"
   ]
  },
  {
   "cell_type": "code",
   "execution_count": null,
   "id": "109cfd3d",
   "metadata": {
    "ExecuteTime": {
     "end_time": "2021-09-01T07:15:39.535322Z",
     "start_time": "2021-09-01T07:15:39.530954Z"
    }
   },
   "outputs": [],
   "source": [
    "dataloader_train = DataLoader(train_set, batch_size=64,\n",
    "                        shuffle=True, num_workers=0)\n",
    "dataloader_val = DataLoader(val_set, batch_size=64,\n",
    "                        shuffle=True, num_workers=0)"
   ]
  },
  {
   "cell_type": "markdown",
   "id": "f5a0fe8d",
   "metadata": {},
   "source": [
    "# Get Network"
   ]
  },
  {
   "cell_type": "code",
   "execution_count": null,
   "id": "5f89f449",
   "metadata": {
    "ExecuteTime": {
     "end_time": "2021-09-01T07:15:39.543744Z",
     "start_time": "2021-09-01T07:15:39.538119Z"
    }
   },
   "outputs": [],
   "source": [
    "from vanilla_cnn import vanilla"
   ]
  },
  {
   "cell_type": "markdown",
   "id": "45e707f3",
   "metadata": {},
   "source": [
    "# Get Training"
   ]
  },
  {
   "cell_type": "code",
   "execution_count": null,
   "id": "48812fca",
   "metadata": {
    "ExecuteTime": {
     "end_time": "2021-09-01T07:15:40.085776Z",
     "start_time": "2021-09-01T07:15:39.546840Z"
    }
   },
   "outputs": [],
   "source": [
    "from Model import get_balanced_crossentropy_loss, OurModel"
   ]
  },
  {
   "cell_type": "code",
   "execution_count": null,
   "id": "35fbb262",
   "metadata": {
    "ExecuteTime": {
     "end_time": "2021-09-01T07:15:46.958826Z",
     "start_time": "2021-09-01T07:15:40.088231Z"
    }
   },
   "outputs": [],
   "source": [
    "criterion = get_balanced_crossentropy_loss(train_set, verbose = True)\n",
    "network = vanilla()\n",
    "path = \"./weights\""
   ]
  },
  {
   "cell_type": "code",
   "execution_count": null,
   "id": "b0536cca",
   "metadata": {
    "ExecuteTime": {
     "end_time": "2021-09-01T07:15:46.977098Z",
     "start_time": "2021-09-01T07:15:46.961204Z"
    }
   },
   "outputs": [],
   "source": [
    "network = vanilla()"
   ]
  },
  {
   "cell_type": "code",
   "execution_count": null,
   "id": "14751592",
   "metadata": {
    "ExecuteTime": {
     "end_time": "2021-09-01T07:15:46.988204Z",
     "start_time": "2021-09-01T07:15:46.984122Z"
    }
   },
   "outputs": [],
   "source": [
    "training = OurModel(name = \"vanilla\", network= network, criterion= criterion, path_dir = path)"
   ]
  },
  {
   "cell_type": "code",
   "execution_count": null,
   "id": "bf0a89ae",
   "metadata": {
    "ExecuteTime": {
     "end_time": "2021-09-01T08:53:28.753412Z",
     "start_time": "2021-09-01T07:15:46.991099Z"
    }
   },
   "outputs": [],
   "source": [
    "training.train(100, dataloader_train)"
   ]
  },
  {
   "cell_type": "code",
   "execution_count": null,
   "id": "6a54feea",
   "metadata": {
    "ExecuteTime": {
     "end_time": "2021-09-01T08:56:26.429180Z",
     "start_time": "2021-09-01T08:56:11.782898Z"
    }
   },
   "outputs": [],
   "source": [
    "training.val(dataloader_val)"
   ]
  },
  {
   "cell_type": "code",
   "execution_count": null,
   "id": "a74b1b1c",
   "metadata": {
    "ExecuteTime": {
     "end_time": "2021-09-01T08:56:08.861632Z",
     "start_time": "2021-09-01T08:56:08.849568Z"
    }
   },
   "outputs": [],
   "source": [
    "training.load_weights(\"/vanilla_e11.ckpt\")"
   ]
  },
  {
   "cell_type": "code",
   "execution_count": null,
   "id": "26c8efd9",
   "metadata": {
    "ExecuteTime": {
     "end_time": "2021-09-01T08:56:26.443122Z",
     "start_time": "2021-09-01T08:56:26.432316Z"
    }
   },
   "outputs": [],
   "source": [
    "training.load_weights(\"/vanilla_e16.ckpt\")"
   ]
  },
  {
   "cell_type": "code",
   "execution_count": null,
   "id": "e3da1ee9",
   "metadata": {
    "ExecuteTime": {
     "end_time": "2021-09-01T08:56:43.934129Z",
     "start_time": "2021-09-01T08:56:29.481979Z"
    }
   },
   "outputs": [],
   "source": [
    "training.val(dataloader_val)"
   ]
  },
  {
   "cell_type": "code",
   "execution_count": null,
   "id": "9f404db7",
   "metadata": {
    "ExecuteTime": {
     "end_time": "2021-09-01T08:58:53.694994Z",
     "start_time": "2021-09-01T08:58:53.684574Z"
    }
   },
   "outputs": [],
   "source": [
    "training.load_weights(\"/vanilla_e1.ckpt\")"
   ]
  },
  {
   "cell_type": "code",
   "execution_count": null,
   "id": "9be2f002",
   "metadata": {
    "ExecuteTime": {
     "end_time": "2021-09-01T08:59:07.455071Z",
     "start_time": "2021-09-01T08:58:54.035011Z"
    }
   },
   "outputs": [],
   "source": [
    "training.val(dataloader_val)"
   ]
  },
  {
   "cell_type": "code",
   "execution_count": null,
   "id": "974d582b",
   "metadata": {},
   "outputs": [],
   "source": []
  }
 ],
 "metadata": {
  "kernelspec": {
   "display_name": "my-virtualenv-name",
   "language": "python",
   "name": "my-virtualenv-name"
  },
  "language_info": {
   "codemirror_mode": {
    "name": "ipython",
    "version": 3
   },
   "file_extension": ".py",
   "mimetype": "text/x-python",
   "name": "python",
   "nbconvert_exporter": "python",
   "pygments_lexer": "ipython3",
   "version": "3.9.6"
  }
 },
 "nbformat": 4,
 "nbformat_minor": 5
}
