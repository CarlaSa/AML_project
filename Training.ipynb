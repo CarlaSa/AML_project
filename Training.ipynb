{
 "cells": [
  {
   "cell_type": "code",
   "execution_count": null,
   "id": "20bfa457",
   "metadata": {
    "ExecuteTime": {
     "end_time": "2021-09-01T07:15:38.728202Z",
     "start_time": "2021-09-01T07:15:38.252348Z"
    }
   },
   "outputs": [],
   "source": [
    "import torch\n",
    "from torch.utils.data import Dataset, DataLoader"
   ]
  },
  {
   "cell_type": "markdown",
   "id": "05ccef68",
   "metadata": {},
   "source": [
    "# Get Data"
   ]
  },
  {
   "cell_type": "code",
   "execution_count": null,
   "id": "d955672d",
   "metadata": {
    "ExecuteTime": {
     "end_time": "2021-09-01T07:15:39.516890Z",
     "start_time": "2021-09-01T07:15:38.731161Z"
    }
   },
   "outputs": [],
   "source": [
    "from datasets.image_dataset import ImageDataset, UniformImageDataset\n",
    "from datasets.study_dataset import StudyDataset\n",
    "from datasets.masked_image_study_labeled_dataset import MaskedImageStudyLabeledDataset\n",
    "\n",
    "from datasets.io import LoadDataset\n",
    "dataset = LoadDataset(\"data/masked_256\", label_dtype=bool, image_dtype = float)"
   ]
  },
  {
   "cell_type": "code",
   "execution_count": null,
   "id": "6f46a0ba",
   "metadata": {
    "ExecuteTime": {
     "end_time": "2021-09-01T07:15:39.528558Z",
     "start_time": "2021-09-01T07:15:39.523731Z"
    }
   },
   "outputs": [],
   "source": [
    "# get good split of dataset -> dividable by batch_size\n",
    "batch_size = 64\n",
    "l = len(dataset)\n",
    "x = l // (batch_size *6 )\n",
    "split = [x * batch_size * 5, l - x * batch_size * 5]\n",
    "split\n",
    "train_set, val_set = torch.utils.data.random_split(dataset, split)"
   ]
  },
  {
   "cell_type": "code",
   "execution_count": null,
   "id": "090796da",
   "metadata": {
    "ExecuteTime": {
     "end_time": "2021-09-01T07:15:39.535322Z",
     "start_time": "2021-09-01T07:15:39.530954Z"
    }
   },
   "outputs": [],
   "source": [
    "dataloader_train = DataLoader(train_set, batch_size=64,\n",
    "                        shuffle=True, num_workers=0)\n",
    "dataloader_val = DataLoader(val_set, batch_size=64,\n",
    "                        shuffle=True, num_workers=0)"
   ]
  },
  {
   "cell_type": "markdown",
   "id": "7f929ae3",
   "metadata": {},
   "source": [
    "# Get Network"
   ]
  },
  {
   "cell_type": "code",
   "execution_count": null,
   "id": "c8305aa4",
   "metadata": {
    "ExecuteTime": {
     "end_time": "2021-09-01T07:15:39.543744Z",
     "start_time": "2021-09-01T07:15:39.538119Z"
    }
   },
   "outputs": [],
   "source": [
    "from vanilla_cnn import vanilla"
   ]
  },
  {
   "cell_type": "markdown",
   "id": "ef356478",
   "metadata": {},
   "source": [
    "# Get Training"
   ]
  },
  {
   "cell_type": "code",
   "execution_count": null,
   "id": "13e8ba34",
   "metadata": {
    "ExecuteTime": {
     "end_time": "2021-09-01T07:15:40.085776Z",
     "start_time": "2021-09-01T07:15:39.546840Z"
    }
   },
   "outputs": [],
   "source": [
    "from Model import get_balanced_crossentropy_loss, OurModel"
   ]
  },
  {
   "cell_type": "code",
   "execution_count": null,
   "id": "36550d3d",
   "metadata": {
    "ExecuteTime": {
     "end_time": "2021-09-01T07:15:46.958826Z",
     "start_time": "2021-09-01T07:15:40.088231Z"
    }
   },
   "outputs": [],
   "source": [
    "criterion = get_balanced_crossentropy_loss(train_set, verbose = True)\n",
    "network = vanilla()\n",
    "path = \"./weights\""
   ]
  },
  {
   "cell_type": "code",
   "execution_count": null,
   "id": "e8aaff55",
   "metadata": {
    "ExecuteTime": {
     "end_time": "2021-09-01T07:15:46.977098Z",
     "start_time": "2021-09-01T07:15:46.961204Z"
    }
   },
   "outputs": [],
   "source": [
    "network = vanilla()"
   ]
  },
  {
   "cell_type": "code",
   "execution_count": null,
   "id": "774dfca4",
   "metadata": {
    "ExecuteTime": {
     "end_time": "2021-09-01T07:15:46.988204Z",
     "start_time": "2021-09-01T07:15:46.984122Z"
    }
   },
   "outputs": [],
   "source": [
    "training = OurModel(name = \"vanilla\", network= network, criterion= criterion, path_dir = path)"
   ]
  },
  {
   "cell_type": "code",
   "execution_count": null,
   "id": "cb5ce14e",
   "metadata": {
    "ExecuteTime": {
     "end_time": "2021-09-01T08:53:28.753412Z",
     "start_time": "2021-09-01T07:15:46.991099Z"
    }
   },
   "outputs": [],
   "source": [
    "training.train(100, dataloader_train)"
   ]
  },
  {
   "cell_type": "code",
   "execution_count": null,
   "id": "8e42b6a9",
   "metadata": {
    "ExecuteTime": {
     "end_time": "2021-09-01T08:56:26.429180Z",
     "start_time": "2021-09-01T08:56:11.782898Z"
    }
   },
   "outputs": [],
   "source": [
    "training.val(dataloader_val)"
   ]
  }
 ],
 "metadata": {
  "kernelspec": {
   "display_name": "my-virtualenv-name",
   "language": "python",
   "name": "my-virtualenv-name"
  },
  "language_info": {
   "codemirror_mode": {
    "name": "ipython",
    "version": 3
   },
   "file_extension": ".py",
   "mimetype": "text/x-python",
   "name": "python",
   "nbconvert_exporter": "python",
   "pygments_lexer": "ipython3",
   "version": "3.9.6"
  }
 },
 "nbformat": 4,
 "nbformat_minor": 5
}
