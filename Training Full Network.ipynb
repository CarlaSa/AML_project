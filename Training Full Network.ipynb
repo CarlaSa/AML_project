{
 "cells": [
  {
   "cell_type": "code",
   "execution_count": null,
   "id": "48f84036",
   "metadata": {
    "ExecuteTime": {
     "end_time": "2021-09-22T09:16:06.494805Z",
     "start_time": "2021-09-22T09:16:03.559295Z"
    }
   },
   "outputs": [],
   "source": [
    "import torch\n",
    "import torch.nn as nn\n",
    "import PIL.Image as Image\n",
    "from matplotlib.pyplot import imshow\n",
    "\n",
    "from sklearn.model_selection import train_test_split\n",
    "from torch.utils.data import DataLoader, Subset\n",
    "\n",
    "from datasets import LoadDataset, CustomOutput, Knit\n",
    "from datasets.custom_output import image_tensor, study_label_5\n",
    "from trafo.randomize.default_augmentation import default_augmentation_only_geometric\n",
    "\n",
    "from network.feature_extractor import ResNet, ResnetOriginal\n",
    "from network.full_model import EndNetwork, FullModel\n",
    "from network.unet import Unet\n",
    "\n",
    "from network.training import FullTraining, get_balanced_crossentropy_loss"
   ]
  },
  {
   "cell_type": "code",
   "execution_count": null,
   "id": "1266a992",
   "metadata": {
    "ExecuteTime": {
     "end_time": "2021-09-22T09:16:06.502008Z",
     "start_time": "2021-09-22T09:16:06.497683Z"
    }
   },
   "outputs": [],
   "source": [
    "torch.manual_seed(4)\n",
    "torch.cuda.manual_seed(4)"
   ]
  },
  {
   "cell_type": "code",
   "execution_count": null,
   "id": "3c999fa0",
   "metadata": {
    "ExecuteTime": {
     "end_time": "2021-09-22T09:16:06.507945Z",
     "start_time": "2021-09-22T09:16:06.504686Z"
    }
   },
   "outputs": [],
   "source": [
    "BATCH_SIZE = 2\n",
    "save_weights_at = \"./_weights\""
   ]
  },
  {
   "cell_type": "code",
   "execution_count": null,
   "id": "9eaab8e0",
   "metadata": {
    "ExecuteTime": {
     "end_time": "2021-09-22T09:16:06.515883Z",
     "start_time": "2021-09-22T09:16:06.512893Z"
    }
   },
   "outputs": [],
   "source": [
    "device = torch.device('cuda' if torch.cuda.is_available() else 'cpu')\n",
    "weights_unet = \"./_trainings/19-09_19-26_aDAOG_cB3D_b48_e150_BN/unet_e150.ckpt\"\n",
    "weights_resnet = \"./_weights/resnet1111_e18.ckpt\"\n",
    "weights_oresnet = \"./_weights/resnet18_orig_tr=6_09_21_e18.ckpt\""
   ]
  },
  {
   "cell_type": "markdown",
   "id": "98271da7",
   "metadata": {},
   "source": [
    "# Get Data"
   ]
  },
  {
   "cell_type": "code",
   "execution_count": null,
   "id": "014ec91a",
   "metadata": {
    "ExecuteTime": {
     "end_time": "2021-09-22T09:16:06.577788Z",
     "start_time": "2021-09-22T09:16:06.518534Z"
    }
   },
   "outputs": [],
   "source": [
    "loaded_data = LoadDataset(\"_data/preprocessed256_new\", image_dtype=float,\n",
    "                          label_dtype=float)\n",
    "knit_data = Knit(loaded_data, study_csv = \"_data/train_study_level.csv\", image_csv = \"_data/train_image_level.csv\")\n",
    "dataset_plain = CustomOutput(knit_data, image_tensor, study_label_5)\n",
    "default_augmentation_only_geometric.max_transformands = 1\n",
    "dataset_aug = CustomOutput(knit_data, image_tensor, study_label_5, \n",
    "                           trafo= default_augmentation_only_geometric)"
   ]
  },
  {
   "cell_type": "code",
   "execution_count": null,
   "id": "597018d4",
   "metadata": {
    "ExecuteTime": {
     "end_time": "2021-09-22T09:16:06.587995Z",
     "start_time": "2021-09-22T09:16:06.579371Z"
    }
   },
   "outputs": [],
   "source": [
    "l_data = len(dataset_aug)\n",
    "indices = list(range(l_data))\n",
    "train_size = 5200\n",
    "val_size = l_data - train_size\n",
    "\n",
    "print(\"Training: \", train_size, \"Validation: \", val_size)\n",
    "train_indices, val_indices = train_test_split(\n",
    "    indices, random_state=4, train_size=train_size, test_size=val_size\n",
    "    )\n",
    "\n",
    "train_set = Subset(dataset_aug, train_indices)\n",
    "val_set = Subset(dataset_plain, val_indices)\n",
    "\n",
    "dataloader_train = DataLoader(train_set, batch_size= BATCH_SIZE,\n",
    "                              shuffle=True, num_workers=0, )\n",
    "dataloader_val = DataLoader(val_set, batch_size= BATCH_SIZE,\n",
    "                            shuffle=True, num_workers=0, pin_memory=True )"
   ]
  },
  {
   "cell_type": "markdown",
   "id": "66d8c775",
   "metadata": {},
   "source": [
    "# Get Networks"
   ]
  },
  {
   "cell_type": "markdown",
   "id": "8b00eca9",
   "metadata": {},
   "source": [
    "## get Unet"
   ]
  },
  {
   "cell_type": "code",
   "execution_count": null,
   "id": "69e33d9f",
   "metadata": {
    "ExecuteTime": {
     "end_time": "2021-09-22T09:16:06.954880Z",
     "start_time": "2021-09-22T09:16:06.590732Z"
    }
   },
   "outputs": [],
   "source": [
    "unet = Unet(batch_norm= True)\n",
    "unet.load_state_dict(torch.load(weights_unet, map_location= torch.device(device)))"
   ]
  },
  {
   "cell_type": "markdown",
   "id": "e851fc28",
   "metadata": {},
   "source": [
    "## get ResNet"
   ]
  },
  {
   "cell_type": "code",
   "execution_count": null,
   "id": "43050ce3",
   "metadata": {
    "ExecuteTime": {
     "end_time": "2021-09-22T09:27:47.594778Z",
     "start_time": "2021-09-22T09:27:47.531149Z"
    }
   },
   "outputs": [],
   "source": [
    "resnet = ResNet([1,1,1,1], out_shape= 14)\n",
    "resnet.load_state_dict(torch.load(weights_resnet, map_location= torch.device(device)))\n",
    "resnet.end = nn.Sequential(*list(resnet.end.children())[:-2])\n",
    "feature_shape = 512"
   ]
  },
  {
   "cell_type": "code",
   "execution_count": null,
   "id": "67f7662c",
   "metadata": {
    "ExecuteTime": {
     "end_time": "2021-09-22T09:27:49.538163Z",
     "start_time": "2021-09-22T09:27:49.253822Z"
    }
   },
   "outputs": [],
   "source": [
    "oresnet = ResnetOriginal(type = \"resnet18\", shapes = [512, 124, 32, 14], \\\n",
    "                         trainable_resnet = True, trainable_level= 6)\n",
    "oresnet.load_state_dict(torch.load(weights_oresnet, map_location = torch.device(device)))\n",
    "oresnet.fc.block = nn.Sequential(*list(oresnet.fc.block.children())[:-9])\n",
    "feature_shape = 512"
   ]
  },
  {
   "cell_type": "markdown",
   "id": "4231ab3a",
   "metadata": {},
   "source": [
    "## get end"
   ]
  },
  {
   "cell_type": "code",
   "execution_count": null,
   "id": "f551747b",
   "metadata": {
    "ExecuteTime": {
     "end_time": "2021-09-22T09:27:52.173172Z",
     "start_time": "2021-09-22T09:27:52.118893Z"
    }
   },
   "outputs": [],
   "source": [
    "end_network = EndNetwork(features_shape = feature_shape)"
   ]
  },
  {
   "cell_type": "markdown",
   "id": "4804e940",
   "metadata": {},
   "source": [
    "## Full Network"
   ]
  },
  {
   "cell_type": "code",
   "execution_count": null,
   "id": "90ad612e",
   "metadata": {
    "ExecuteTime": {
     "end_time": "2021-09-22T09:27:53.647962Z",
     "start_time": "2021-09-22T09:27:53.643066Z"
    }
   },
   "outputs": [],
   "source": [
    "model = FullModel(unet = unet, feature_extractor = oresnet, end = end_network, \n",
    "                threshold = 0.5, unet_trainable = False, feature_extractor_trainable = False)"
   ]
  },
  {
   "cell_type": "code",
   "execution_count": null,
   "id": "c502f479",
   "metadata": {
    "ExecuteTime": {
     "end_time": "2021-09-22T09:25:52.926819Z",
     "start_time": "2021-09-22T09:25:52.919678Z"
    }
   },
   "outputs": [],
   "source": [
    "# number trainable parameters\n",
    "sum(p.numel() for p in model.parameters() if p.requires_grad)"
   ]
  },
  {
   "cell_type": "code",
   "execution_count": null,
   "id": "1cb609a3",
   "metadata": {
    "ExecuteTime": {
     "end_time": "2021-09-22T09:25:54.150677Z",
     "start_time": "2021-09-22T09:25:54.143232Z"
    }
   },
   "outputs": [],
   "source": [
    "# number parameters\n",
    "sum(p.numel() for p in model.parameters())"
   ]
  },
  {
   "cell_type": "markdown",
   "id": "d427d3ca",
   "metadata": {},
   "source": [
    "# Get Training"
   ]
  },
  {
   "cell_type": "code",
   "execution_count": null,
   "id": "477dde5c",
   "metadata": {
    "ExecuteTime": {
     "end_time": "2021-09-22T09:26:03.952114Z",
     "start_time": "2021-09-22T09:25:59.877048Z"
    }
   },
   "outputs": [],
   "source": [
    "loss = get_balanced_crossentropy_loss(train_set, verbose = True, shape = 5)"
   ]
  },
  {
   "cell_type": "code",
   "execution_count": null,
   "id": "d6a7ce7c",
   "metadata": {
    "ExecuteTime": {
     "end_time": "2021-09-22T09:26:24.191022Z",
     "start_time": "2021-09-22T09:26:24.185315Z"
    },
    "code_folding": []
   },
   "outputs": [],
   "source": [
    "training = FullTraining(\"full_training\", model, loss,\n",
    "                        batch_size= BATCH_SIZE, verbose_level= 2, path_dir = save_weights_at,\n",
    "                        data_trafo= None)"
   ]
  },
  {
   "cell_type": "code",
   "execution_count": null,
   "id": "d9b412f3",
   "metadata": {
    "ExecuteTime": {
     "end_time": "2021-09-22T09:27:38.312259Z",
     "start_time": "2021-09-22T09:26:25.207218Z"
    }
   },
   "outputs": [],
   "source": [
    "training.train(24, dataloader= dataloader_train)"
   ]
  },
  {
   "cell_type": "code",
   "execution_count": null,
   "id": "8625bec8",
   "metadata": {},
   "outputs": [],
   "source": []
  }
 ],
 "metadata": {
  "kernelspec": {
   "display_name": "my-virtualenv-name",
   "language": "python",
   "name": "my-virtualenv-name"
  },
  "language_info": {
   "codemirror_mode": {
    "name": "ipython",
    "version": 3
   },
   "file_extension": ".py",
   "mimetype": "text/x-python",
   "name": "python",
   "nbconvert_exporter": "python",
   "pygments_lexer": "ipython3",
   "version": "3.9.6"
  }
 },
 "nbformat": 4,
 "nbformat_minor": 5
}
