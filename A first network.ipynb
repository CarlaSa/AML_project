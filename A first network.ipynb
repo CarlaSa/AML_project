{
 "cells": [
  {
   "cell_type": "markdown",
   "id": "threaded-therapist",
   "metadata": {},
   "source": [
    "# 1. Load the dataset"
   ]
  },
  {
   "cell_type": "code",
   "execution_count": 1,
   "id": "recovered-messaging",
   "metadata": {
    "ExecuteTime": {
     "end_time": "2021-08-24T09:38:58.273301Z",
     "start_time": "2021-08-24T09:38:47.871581Z"
    }
   },
   "outputs": [],
   "source": [
    "import torch\n",
    "from torch.utils.data import Dataset, DataLoader\n",
    "import torch.nn as nn\n",
    "import torch.optim as optim\n",
    "import torch.nn.functional as F\n",
    "import matplotlib.pyplot as plt\n",
    "from torchvision import transforms\n",
    "import numpy as np\n",
    "\n",
    "from tqdm.notebook import tqdm\n",
    "import sklearn"
   ]
  },
  {
   "cell_type": "code",
   "execution_count": 2,
   "id": "exclusive-marriage",
   "metadata": {
    "ExecuteTime": {
     "end_time": "2021-08-24T09:38:58.955873Z",
     "start_time": "2021-08-24T09:38:58.276788Z"
    }
   },
   "outputs": [],
   "source": [
    "from datasets.image_dataset import ImageDataset, UniformImageDataset\n",
    "from datasets.study_dataset import StudyDataset\n",
    "from datasets.masked_image_study_labeled_dataset import MaskedImageStudyLabeledDataset"
   ]
  },
  {
   "cell_type": "code",
   "execution_count": 3,
   "id": "official-mystery",
   "metadata": {
    "ExecuteTime": {
     "end_time": "2021-08-24T09:38:58.997429Z",
     "start_time": "2021-08-24T09:38:58.958556Z"
    }
   },
   "outputs": [],
   "source": [
    "image_csv = \"./siim-covid19-detection/train_image_level.csv\"\n",
    "input_dir = \"./siim-covid19-detection/train\"\n",
    "study_csv = \"./siim-covid19-detection/train_study_level.csv\"\n",
    "\n",
    "dataset = MaskedImageStudyLabeledDataset(input_dir, image_csv, study_csv, img_size = (256, 256))"
   ]
  },
  {
   "cell_type": "code",
   "execution_count": 47,
   "id": "8869889f",
   "metadata": {
    "ExecuteTime": {
     "end_time": "2021-08-25T10:57:10.904937Z",
     "start_time": "2021-08-25T10:42:38.146340Z"
    }
   },
   "outputs": [
    {
     "data": {
      "application/vnd.jupyter.widget-view+json": {
       "model_id": "6bfff09eba06494e933da701d20cc1a1",
       "version_major": 2,
       "version_minor": 0
      },
      "text/plain": [
       "  0%|          | 0/6334 [00:00<?, ?it/s]"
      ]
     },
     "metadata": {},
     "output_type": "display_data"
    }
   ],
   "source": [
    "# remove class = 0\n",
    "not_class_0 = []\n",
    "for data in tqdm(dataset):\n",
    "    not_class_0.append(not data[1][0])"
   ]
  },
  {
   "cell_type": "code",
   "execution_count": 52,
   "id": "46cbd667",
   "metadata": {
    "ExecuteTime": {
     "end_time": "2021-08-25T11:08:09.391716Z",
     "start_time": "2021-08-25T11:08:09.385798Z"
    }
   },
   "outputs": [],
   "source": [
    "not_class_0_ = []\n",
    "for i in range(len(not_class_0)):\n",
    "    if not_class_0[i]:\n",
    "        not_class_0_.append(i)"
   ]
  },
  {
   "cell_type": "code",
   "execution_count": 54,
   "id": "703620e7",
   "metadata": {
    "ExecuteTime": {
     "end_time": "2021-08-25T11:08:16.843106Z",
     "start_time": "2021-08-25T11:08:16.838037Z"
    }
   },
   "outputs": [],
   "source": [
    "dataset_wbb = torch.utils.data.Subset(dataset, not_class_0_)"
   ]
  },
  {
   "cell_type": "code",
   "execution_count": 55,
   "id": "cross-horror",
   "metadata": {
    "ExecuteTime": {
     "end_time": "2021-08-25T11:08:42.576410Z",
     "start_time": "2021-08-25T11:08:42.569683Z"
    }
   },
   "outputs": [
    {
     "data": {
      "text/plain": [
       "(6334, 4598)"
      ]
     },
     "execution_count": 55,
     "metadata": {},
     "output_type": "execute_result"
    }
   ],
   "source": [
    "len(dataset), len(dataset_wbb)"
   ]
  },
  {
   "cell_type": "code",
   "execution_count": 5,
   "id": "southwest-problem",
   "metadata": {
    "ExecuteTime": {
     "end_time": "2021-08-24T09:38:59.014590Z",
     "start_time": "2021-08-24T09:38:59.008886Z"
    }
   },
   "outputs": [
    {
     "data": {
      "text/plain": [
       "1214"
      ]
     },
     "execution_count": 5,
     "metadata": {},
     "output_type": "execute_result"
    }
   ],
   "source": [
    "6334 - 64 * 80"
   ]
  },
  {
   "cell_type": "code",
   "execution_count": 6,
   "id": "interesting-crowd",
   "metadata": {
    "ExecuteTime": {
     "end_time": "2021-08-24T09:38:59.020705Z",
     "start_time": "2021-08-24T09:38:59.017053Z"
    }
   },
   "outputs": [],
   "source": [
    "train_set, val_set = torch.utils.data.random_split(dataset, [5120, 1214])"
   ]
  },
  {
   "cell_type": "code",
   "execution_count": 57,
   "id": "36627afe",
   "metadata": {
    "ExecuteTime": {
     "end_time": "2021-08-25T12:24:58.662957Z",
     "start_time": "2021-08-25T12:24:58.656299Z"
    }
   },
   "outputs": [
    {
     "data": {
      "text/plain": [
       "758"
      ]
     },
     "execution_count": 57,
     "metadata": {},
     "output_type": "execute_result"
    }
   ],
   "source": [
    "4598 - 64 * 60"
   ]
  },
  {
   "cell_type": "code",
   "execution_count": 58,
   "id": "2d92a430",
   "metadata": {
    "ExecuteTime": {
     "end_time": "2021-08-25T12:25:16.566823Z",
     "start_time": "2021-08-25T12:25:16.561153Z"
    }
   },
   "outputs": [],
   "source": [
    "train_set, val_set = torch.utils.data.random_split(dataset_wbb, [64 * 60 , 758])"
   ]
  },
  {
   "cell_type": "code",
   "execution_count": 59,
   "id": "naughty-hometown",
   "metadata": {
    "ExecuteTime": {
     "end_time": "2021-08-25T12:25:19.654927Z",
     "start_time": "2021-08-25T12:25:19.650595Z"
    }
   },
   "outputs": [],
   "source": [
    "dataloader_test = DataLoader(train_set, batch_size=64,\n",
    "                        shuffle=True, num_workers=0)\n",
    "dataloader_val = DataLoader(val_set, batch_size=64,\n",
    "                        shuffle=True, num_workers=0)"
   ]
  },
  {
   "cell_type": "markdown",
   "id": "atomic-server",
   "metadata": {
    "heading_collapsed": true
   },
   "source": [
    "# 1b alternative dataset\n",
    "\n",
    "hier hatte ich versucht ein anderes datenset zu benutzen, als unseres noch nicht fertig war -> kann ignoriert werden"
   ]
  },
  {
   "cell_type": "code",
   "execution_count": null,
   "id": "generic-brick",
   "metadata": {
    "hidden": true
   },
   "outputs": [],
   "source": [
    "# source https://www.kaggle.com/paultimothymooney/chest-xray-pneumonia\n",
    "\n",
    "train_path = \"./other_data/chest_xray/train/\"\n",
    "val_path = \"./other_data/chest_xray/val/\"\n",
    "test_path = \"./other_data/chest_xray/test/\""
   ]
  },
  {
   "cell_type": "code",
   "execution_count": null,
   "id": "dramatic-chest",
   "metadata": {
    "hidden": true,
    "scrolled": true
   },
   "outputs": [],
   "source": [
    "from torchvision.datasets import ImageFolder\n",
    "transformations = transforms.Compose([\n",
    "    transforms.Resize(256),\n",
    "    transforms.CenterCrop(256),\n",
    "    transforms.ToTensor(),\n",
    "])\n",
    "dataset = ImageFolder(root = train_path, transform= transformations)"
   ]
  },
  {
   "cell_type": "code",
   "execution_count": null,
   "id": "collect-illinois",
   "metadata": {
    "hidden": true
   },
   "outputs": [],
   "source": [
    "dataset"
   ]
  },
  {
   "cell_type": "code",
   "execution_count": null,
   "id": "responsible-russell",
   "metadata": {
    "hidden": true
   },
   "outputs": [],
   "source": [
    "dataset.classes"
   ]
  },
  {
   "cell_type": "code",
   "execution_count": null,
   "id": "employed-template",
   "metadata": {
    "hidden": true
   },
   "outputs": [],
   "source": [
    "dataloader = DataLoader(dataset, batch_size=8,\n",
    "                        shuffle=True, num_workers=0)"
   ]
  },
  {
   "cell_type": "markdown",
   "id": "smart-guard",
   "metadata": {},
   "source": [
    "# Looking at the data"
   ]
  },
  {
   "cell_type": "code",
   "execution_count": 8,
   "id": "advised-afghanistan",
   "metadata": {
    "ExecuteTime": {
     "end_time": "2021-08-24T09:39:02.735679Z",
     "start_time": "2021-08-24T09:39:02.731414Z"
    }
   },
   "outputs": [],
   "source": [
    "key = {\n",
    "    0: \"Negative for Pneumonia\",\n",
    "    1: \"Typical Appearance\", \n",
    "    2: \"Indeterminate Appearance\",\n",
    "    3: \"Atypical Appearance\"\n",
    "}"
   ]
  },
  {
   "cell_type": "code",
   "execution_count": 9,
   "id": "tracked-ballot",
   "metadata": {
    "ExecuteTime": {
     "end_time": "2021-08-24T09:39:05.646872Z",
     "start_time": "2021-08-24T09:39:03.030012Z"
    },
    "code_folding": [],
    "scrolled": false
   },
   "outputs": [
    {
     "data": {
      "image/png": "[encoded data removed]",
      "text/plain": [
       "<Figure size 720x720 with 4 Axes>"
      ]
     },
     "metadata": {
      "needs_background": "light"
     },
     "output_type": "display_data"
    }
   ],
   "source": [
    "fig, ax = plt.subplots(2, 2, figsize = (10,10))\n",
    "for i in range(4):\n",
    "    for img, label in dataset:\n",
    "        if label[i]:\n",
    "            a = ax[i//2, i%2]\n",
    "            a.set_title(key[i])\n",
    "            a.imshow(transforms.ToPILImage()(img), cmap = \"gray\")\n",
    "            break\n",
    "fig.tight_layout()\n",
    "plt.show()"
   ]
  },
  {
   "cell_type": "markdown",
   "id": "committed-fourth",
   "metadata": {},
   "source": [
    "# 2. Create Network\n",
    "\n",
    "For every image there needs\n",
    "    - be bounding boxes of anomalies found\n",
    "    - type classified\n",
    "    \n",
    "We decided to split those two tasks into two networks"
   ]
  },
  {
   "cell_type": "markdown",
   "id": "arctic-gossip",
   "metadata": {},
   "source": [
    "Shape change with different layers:\n",
    "\n",
    "input_size = H_in x W_in\n",
    "no of channels = C_in (black and white -> C_in = 1)\n",
    "batch_size = B\n",
    "\n",
    "Kernel_shape: KxK (only consider quadratic)\n",
    "output_shape: H_out x W_out\n",
    "no of channels = C_out\n",
    "\n",
    "Conv2d (C_in, C_out, K):\n",
    "(here i do not use some options of conv2d)\n",
    "H_out = H_in - K + 1\n",
    "W_out = W_in - K + 1\n",
    "=> input (B, C_in, H_in, W_in) --> output (B, C_out , H_in - K + 1, W_in - K +1)\n",
    "\n",
    "Maxpool2d(K,K):\n",
    "K: Kernel size = Stride\n",
    "H_out = floor((H_in -2 + K) / K)\n",
    "(eventuell rounded down)\n",
    "=> input (B, C_in, H_in, W_in) --> output (B, C_in, (H_in + K - 2) / K , (W_in + K -2)/ K)"
   ]
  },
  {
   "cell_type": "code",
   "execution_count": 89,
   "id": "hungry-preserve",
   "metadata": {
    "ExecuteTime": {
     "end_time": "2021-08-23T17:39:13.681615Z",
     "start_time": "2021-08-23T17:39:13.612354Z"
    },
    "code_folding": [
     0
    ]
   },
   "outputs": [],
   "source": [
    "class Classifier1(nn.Module):\n",
    "    def __init__(self, input_size = 256, ):\n",
    "        super().__init__()\n",
    "        \n",
    "        \n",
    "        \n",
    "        #self.block1 = nn.Sequential(\n",
    "        #    nn.Conv2d(in_channels = 1, out_channels = 6, kernel_size = (5,5)),\n",
    "        #    nn.MaxPool2d(2, 2),\n",
    "        #    nn.Conv2d(6, 16, 5),\n",
    "        #)\n",
    "        self.conv1 = nn.Conv2d(1, 6, 5) \n",
    "        self.pool1 = nn.MaxPool2d(2, 2)\n",
    "        self.conv2 = nn.Conv2d(6, 16, 5)\n",
    "        self.pool2 = nn.MaxPool2d(2, 2)\n",
    "        self.conv3 = nn.Conv2d(16, 32, 5)\n",
    "        \n",
    "        after_conv_size = int((input_size / 4 - 7)**2  * 32)\n",
    "        self.fc1 = nn.Linear(after_conv_size, 120)\n",
    "        self.fc2 = nn.Linear(120, 84)\n",
    "        self.fc3 = nn.Linear(84, 4)\n",
    "\n",
    "    def forward(self, x):\n",
    "        # B:= Batchsize\n",
    "        # Inputsize: HxW\n",
    "        # shape x: (B, 1, H, W)\n",
    "        \n",
    "        x = self.conv1(x)  # shape: (B, 6, H - 4 , W - 4 )\n",
    "        x = self.pool1(x)  # shape: (B, 6, H/2 -2 , W/2 -2 )\n",
    "        x = self.conv2(x)  # shape: (B, 16, H/2 - 6, W/2 - 6)\n",
    "        x = self.pool2(x)  # shape: (B, 16, H/4 - 3, W/4 - 3 )\n",
    "        x = self.conv3(x)  # shape: (B, 32, H/4 - 7 , W/4 - 7)\n",
    "        x = torch.flatten(x, 1) # shape: (B, rest)\n",
    "        x = F.relu(self.fc1(x))  \n",
    "        x = F.relu(self.fc2(x))\n",
    "        x = self.fc3(x)\n",
    "        return x\n",
    "net = Classifier1()"
   ]
  },
  {
   "cell_type": "code",
   "execution_count": 10,
   "id": "variable-sculpture",
   "metadata": {
    "ExecuteTime": {
     "end_time": "2021-08-24T09:39:07.246713Z",
     "start_time": "2021-08-24T09:39:07.223225Z"
    },
    "code_folding": []
   },
   "outputs": [],
   "source": [
    "class Classifier2(nn.Module):\n",
    "    def __init__(self, input_size = 256, ):\n",
    "        super().__init__()\n",
    "        \n",
    "        \n",
    "        \n",
    "        #self.block1 = nn.Sequential(\n",
    "        #    nn.Conv2d(in_channels = 1, out_channels = 6, kernel_size = (5,5)),\n",
    "        #    nn.MaxPool2d(2, 2),\n",
    "        #    nn.Conv2d(6, 16, 5),\n",
    "        #)\n",
    "        \n",
    "        self.conv1 = nn.Conv2d(1, 16, 3) \n",
    "        self.pool1 = nn.MaxPool2d(2, 2)\n",
    "        self.conv2 = nn.Conv2d(16, 16, 3)\n",
    "        self.pool2 = nn.MaxPool2d(2, 2)\n",
    "        self.conv3 = nn.Conv2d(16, 32, 3)\n",
    "        self.pool3 = nn.MaxPool2d(2, 2)\n",
    "        self.conv4 = nn.Conv2d(32, 32, 3)\n",
    "        self.pool4 = nn.MaxPool2d(2, 2)\n",
    "        self.conv5 = nn.Conv2d(32, 64, 3)\n",
    "        \n",
    "        after_conv_size = int((input_size / 16 - 4)**2  * 64)\n",
    "        self.fc1 = nn.Linear(after_conv_size, 128)\n",
    "        self.fc2 = nn.Linear(128, 64)\n",
    "        self.fc3 = nn.Linear(64, 4)\n",
    "\n",
    "    def forward(self, x):\n",
    "        # B:= Batchsize\n",
    "        # Inputsize: HxW\n",
    "        # shape x: (B, 1, H, W)\n",
    "        \n",
    "        x = self.conv1(x)  # shape: (B, 16, H - 2 , W - 2 )\n",
    "        x = self.pool1(x)  # shape: (B, 16, H/2 - 1 , W/2 - 1 )\n",
    "        \n",
    "        x = F.relu(x)\n",
    "        x = self.conv2(x)  # shape: (B, 16, H/2 - 3, W/2 - 3)\n",
    "        x = self.pool2(x)  # shape: (B, 16, H/4 - 2, W/4 - 2)\n",
    "        \n",
    "        x = F.relu(x)\n",
    "        x = self.conv3(x)  # shape: (B, 32, H/4 - 4 , W/4 - 4)\n",
    "        x = self.pool3(x)  # shape: (B, 32, H/8 - 2 , W/8 - 2)\n",
    "        \n",
    "        x = F.relu(x)\n",
    "        x = self.conv4(x)  # shape: (B, 32, H/8 - 4 , W/8 - 4)   \n",
    "        x = self.pool4(x)  # shape: (B, 32, H/16 - 2 , W/16 - 2)\n",
    "        \n",
    "        x = F.relu(x)\n",
    "        x = self.conv5(x)  # shape: (B, 64, H/16 - 4 , W/16 - 4)\n",
    "        \n",
    "        x = torch.flatten(x, 1) # shape: (B, rest)\n",
    "        x = F.relu(self.fc1(x))  \n",
    "        x = F.relu(self.fc2(x))\n",
    "        x = self.fc3(x)\n",
    "        return x\n",
    "net = Classifier2()"
   ]
  },
  {
   "cell_type": "code",
   "execution_count": 13,
   "id": "hybrid-circuit",
   "metadata": {
    "ExecuteTime": {
     "end_time": "2021-08-24T09:40:34.450050Z",
     "start_time": "2021-08-24T09:40:34.436690Z"
    }
   },
   "outputs": [
    {
     "data": {
      "text/plain": [
       "<All keys matched successfully>"
      ]
     },
     "execution_count": 13,
     "metadata": {},
     "output_type": "execute_result"
    }
   ],
   "source": [
    "net.load_state_dict(torch.load(\"./vanilla_cnn_e10.ckpt\"))"
   ]
  },
  {
   "cell_type": "code",
   "execution_count": 15,
   "id": "found-maine",
   "metadata": {
    "ExecuteTime": {
     "end_time": "2021-08-24T05:14:23.437489Z",
     "start_time": "2021-08-24T05:14:14.742643Z"
    }
   },
   "outputs": [],
   "source": [
    "for x,y in dataloader_test:\n",
    "    net(x)\n",
    "    break"
   ]
  },
  {
   "cell_type": "code",
   "execution_count": 14,
   "id": "frank-growth",
   "metadata": {
    "ExecuteTime": {
     "end_time": "2021-08-24T09:40:37.721895Z",
     "start_time": "2021-08-24T09:40:37.715510Z"
    }
   },
   "outputs": [
    {
     "data": {
      "text/plain": [
       "Classifier2(\n",
       "  (conv1): Conv2d(1, 16, kernel_size=(3, 3), stride=(1, 1))\n",
       "  (pool1): MaxPool2d(kernel_size=2, stride=2, padding=0, dilation=1, ceil_mode=False)\n",
       "  (conv2): Conv2d(16, 16, kernel_size=(3, 3), stride=(1, 1))\n",
       "  (pool2): MaxPool2d(kernel_size=2, stride=2, padding=0, dilation=1, ceil_mode=False)\n",
       "  (conv3): Conv2d(16, 32, kernel_size=(3, 3), stride=(1, 1))\n",
       "  (pool3): MaxPool2d(kernel_size=2, stride=2, padding=0, dilation=1, ceil_mode=False)\n",
       "  (conv4): Conv2d(32, 32, kernel_size=(3, 3), stride=(1, 1))\n",
       "  (pool4): MaxPool2d(kernel_size=2, stride=2, padding=0, dilation=1, ceil_mode=False)\n",
       "  (conv5): Conv2d(32, 64, kernel_size=(3, 3), stride=(1, 1))\n",
       "  (fc1): Linear(in_features=9216, out_features=128, bias=True)\n",
       "  (fc2): Linear(in_features=128, out_features=64, bias=True)\n",
       "  (fc3): Linear(in_features=64, out_features=4, bias=True)\n",
       ")"
      ]
     },
     "execution_count": 14,
     "metadata": {},
     "output_type": "execute_result"
    }
   ],
   "source": [
    "net"
   ]
  },
  {
   "cell_type": "code",
   "execution_count": 31,
   "id": "declared-nurse",
   "metadata": {
    "ExecuteTime": {
     "end_time": "2021-08-24T05:41:01.776293Z",
     "start_time": "2021-08-24T05:41:01.772922Z"
    }
   },
   "outputs": [],
   "source": [
    "num_epochs = 10\n",
    "criterion = nn.CrossEntropyLoss()\n",
    "optimizer = optim.Adam(net.parameters(), lr=0.01)\n",
    "#scheduler = ReduceLROnPlateau(optimizer, 'min')"
   ]
  },
  {
   "cell_type": "code",
   "execution_count": 32,
   "id": "olympic-interpretation",
   "metadata": {
    "ExecuteTime": {
     "end_time": "2021-08-24T09:14:51.147170Z",
     "start_time": "2021-08-24T05:41:03.178738Z"
    },
    "scrolled": true
   },
   "outputs": [
    {
     "name": "stdout",
     "output_type": "stream",
     "text": [
      "epoch 0\n"
     ]
    },
    {
     "data": {
      "application/vnd.jupyter.widget-view+json": {
       "model_id": "db42767f737a4bbd8ba2ac99ebc85885",
       "version_major": 2,
       "version_minor": 0
      },
      "text/plain": [
       "  0%|          | 0/80 [00:00<?, ?it/s]"
      ]
     },
     "metadata": {},
     "output_type": "display_data"
    },
    {
     "name": "stdout",
     "output_type": "stream",
     "text": [
      "0.1424034595489502\n",
      "2.548920053243637\n",
      "1.2810815930366517\n",
      "1.1069117188453674\n",
      "0.8470125734806061\n",
      "0.7452528834342956\n",
      "0.7081866532564163\n",
      "0.7204595863819122\n",
      "epoch 1\n"
     ]
    },
    {
     "data": {
      "application/vnd.jupyter.widget-view+json": {
       "model_id": "1ddca0ab4ab84209a277e05e1c9d775f",
       "version_major": 2,
       "version_minor": 0
      },
      "text/plain": [
       "  0%|          | 0/80 [00:00<?, ?it/s]"
      ]
     },
     "metadata": {},
     "output_type": "display_data"
    },
    {
     "name": "stdout",
     "output_type": "stream",
     "text": [
      "1.026108878850937\n",
      "1.187977248430252\n",
      "1.208035373687744\n",
      "1.089005047082901\n",
      "1.011545902490616\n",
      "0.9333789050579071\n",
      "0.9304863810539246\n",
      "0.7387783020734787\n",
      "epoch 2\n"
     ]
    },
    {
     "data": {
      "application/vnd.jupyter.widget-view+json": {
       "model_id": "cc4fb46c54b0491da218b3686be80e4c",
       "version_major": 2,
       "version_minor": 0
      },
      "text/plain": [
       "  0%|          | 0/80 [00:00<?, ?it/s]"
      ]
     },
     "metadata": {},
     "output_type": "display_data"
    },
    {
     "name": "stdout",
     "output_type": "stream",
     "text": [
      "1.1156413733959198\n",
      "0.920101422071457\n",
      "0.8454896330833435\n",
      "0.817223209142685\n",
      "0.7191662430763245\n",
      "0.9431368052959442\n",
      "0.8395173966884613\n",
      "0.7713059306144714\n",
      "epoch 3\n"
     ]
    },
    {
     "data": {
      "application/vnd.jupyter.widget-view+json": {
       "model_id": "6f0674d328544107ac8e59e6bb28f69b",
       "version_major": 2,
       "version_minor": 0
      },
      "text/plain": [
       "  0%|          | 0/80 [00:00<?, ?it/s]"
      ]
     },
     "metadata": {},
     "output_type": "display_data"
    },
    {
     "name": "stdout",
     "output_type": "stream",
     "text": [
      "0.7898657500743866\n",
      "0.7709000468254089\n",
      "2.139925849437714\n",
      "1.1212849378585816\n",
      "0.8126464724540711\n",
      "0.9638755857944489\n",
      "0.7516742289066315\n",
      "0.7815170228481293\n",
      "epoch 4\n"
     ]
    },
    {
     "data": {
      "application/vnd.jupyter.widget-view+json": {
       "model_id": "b3dc1544888a4c7c8be0662f0caeb6ce",
       "version_major": 2,
       "version_minor": 0
      },
      "text/plain": [
       "  0%|          | 0/80 [00:00<?, ?it/s]"
      ]
     },
     "metadata": {},
     "output_type": "display_data"
    },
    {
     "name": "stdout",
     "output_type": "stream",
     "text": [
      "0.737464714050293\n",
      "0.7921542167663574\n",
      "0.7313991487026215\n",
      "0.658034011721611\n",
      "0.6780172884464264\n",
      "0.6330986797809601\n",
      "0.7052156269550324\n",
      "0.6002296388149262\n",
      "epoch 5\n"
     ]
    },
    {
     "data": {
      "application/vnd.jupyter.widget-view+json": {
       "model_id": "9c24dc5f82154accbd08e22668149f82",
       "version_major": 2,
       "version_minor": 0
      },
      "text/plain": [
       "  0%|          | 0/80 [00:00<?, ?it/s]"
      ]
     },
     "metadata": {},
     "output_type": "display_data"
    },
    {
     "name": "stdout",
     "output_type": "stream",
     "text": [
      "0.6631337493658066\n",
      "0.6370306134223938\n",
      "0.6266107320785522\n",
      "0.5842897295951843\n",
      "0.6587143242359161\n",
      "0.6357348799705506\n",
      "0.5849950939416886\n",
      "0.6028582692146301\n",
      "epoch 6\n"
     ]
    },
    {
     "data": {
      "application/vnd.jupyter.widget-view+json": {
       "model_id": "085a9077f230467db548c1e176951294",
       "version_major": 2,
       "version_minor": 0
      },
      "text/plain": [
       "  0%|          | 0/80 [00:00<?, ?it/s]"
      ]
     },
     "metadata": {},
     "output_type": "display_data"
    },
    {
     "name": "stdout",
     "output_type": "stream",
     "text": [
      "0.6255044341087341\n",
      "0.5838682144880295\n",
      "0.6690323024988174\n",
      "0.6375438719987869\n",
      "0.671019047498703\n",
      "0.5668075621128082\n",
      "0.5684023559093475\n",
      "0.6144188523292542\n",
      "epoch 7\n"
     ]
    },
    {
     "data": {
      "application/vnd.jupyter.widget-view+json": {
       "model_id": "3b557d858c4d412a9349a1a093f599ff",
       "version_major": 2,
       "version_minor": 0
      },
      "text/plain": [
       "  0%|          | 0/80 [00:00<?, ?it/s]"
      ]
     },
     "metadata": {},
     "output_type": "display_data"
    },
    {
     "name": "stdout",
     "output_type": "stream",
     "text": [
      "0.5414590686559677\n",
      "0.5707532405853272\n",
      "0.5485950708389282\n",
      "0.5297573298215866\n",
      "0.5448391258716583\n",
      "0.5472289800643921\n",
      "0.5102921307086945\n",
      "0.625950676202774\n",
      "epoch 8\n"
     ]
    },
    {
     "data": {
      "application/vnd.jupyter.widget-view+json": {
       "model_id": "20f9d183be2b44b0bab7bf7c8f35bb41",
       "version_major": 2,
       "version_minor": 0
      },
      "text/plain": [
       "  0%|          | 0/80 [00:00<?, ?it/s]"
      ]
     },
     "metadata": {},
     "output_type": "display_data"
    },
    {
     "name": "stdout",
     "output_type": "stream",
     "text": [
      "0.5885129809379578\n",
      "0.5301316469907761\n",
      "0.5131196826696396\n",
      "0.5593458831310272\n",
      "0.5828542530536651\n",
      "0.5890063673257828\n",
      "0.4513217180967331\n",
      "0.5675531476736069\n",
      "epoch 9\n"
     ]
    },
    {
     "data": {
      "application/vnd.jupyter.widget-view+json": {
       "model_id": "09640451632944449f84a8ae2451820c",
       "version_major": 2,
       "version_minor": 0
      },
      "text/plain": [
       "  0%|          | 0/80 [00:00<?, ?it/s]"
      ]
     },
     "metadata": {},
     "output_type": "display_data"
    },
    {
     "name": "stdout",
     "output_type": "stream",
     "text": [
      "0.5100332140922547\n",
      "0.544930949807167\n",
      "0.510865044593811\n",
      "0.48429928421974183\n",
      "0.5515181541442871\n",
      "0.5485132157802581\n",
      "0.5535015881061554\n",
      "0.5780603379011154\n"
     ]
    }
   ],
   "source": [
    "all_loss = 0\n",
    "i = 0\n",
    "for e in range(num_epochs): \n",
    "    print(\"epoch \" + str(e))\n",
    "    for x,y in tqdm(dataloader_test):\n",
    "        optimizer.zero_grad()\n",
    "        y = torch.argmax(y.float(), dim = 1)\n",
    "        output = net(x)\n",
    "        loss = criterion(output, y)\n",
    "        loss.backward()\n",
    "        optimizer.step()\n",
    "        all_loss += loss.item()\n",
    "        \n",
    "        if i%10 == 0:\n",
    "            print(all_loss/ 10)\n",
    "            all_loss = 0\n",
    "        i += 1"
   ]
  },
  {
   "cell_type": "code",
   "execution_count": 48,
   "id": "70e58a02",
   "metadata": {
    "ExecuteTime": {
     "end_time": "2021-08-24T09:31:59.015452Z",
     "start_time": "2021-08-24T09:31:58.999387Z"
    }
   },
   "outputs": [],
   "source": [
    "epoch = 10\n",
    "name = \"vanilla_cnn\"\n",
    "torch.save(net.state_dict(), f'./{name}_e{epoch}.ckpt')"
   ]
  },
  {
   "cell_type": "code",
   "execution_count": 15,
   "id": "ed6916f1",
   "metadata": {
    "ExecuteTime": {
     "end_time": "2021-08-24T09:40:48.390934Z",
     "start_time": "2021-08-24T09:40:47.938090Z"
    }
   },
   "outputs": [],
   "source": [
    "from sklearn.metrics import confusion_matrix"
   ]
  },
  {
   "cell_type": "code",
   "execution_count": 34,
   "id": "scheduled-sport",
   "metadata": {
    "ExecuteTime": {
     "end_time": "2021-08-24T09:54:45.355522Z",
     "start_time": "2021-08-24T09:51:59.297666Z"
    },
    "scrolled": true
   },
   "outputs": [
    {
     "data": {
      "application/vnd.jupyter.widget-view+json": {
       "model_id": "8191deb7855d4a9a975cd5650dbf4a7d",
       "version_major": 2,
       "version_minor": 0
      },
      "text/plain": [
       "  0%|          | 0/19 [00:00<?, ?it/s]"
      ]
     },
     "metadata": {},
     "output_type": "display_data"
    },
    {
     "name": "stdout",
     "output_type": "stream",
     "text": [
      "overall correctly classified: tensor(0.8410)\n"
     ]
    },
    {
     "data": {
      "text/plain": [
       "array([[330,   0,   0,   0],\n",
       "       [ 29, 556,  10,   0],\n",
       "       [ 14,  57, 133,   0],\n",
       "       [ 23,  17,  43,   2]])"
      ]
     },
     "execution_count": 34,
     "metadata": {},
     "output_type": "execute_result"
    }
   ],
   "source": [
    "net.eval()\n",
    "acc = 0\n",
    "y_true = []\n",
    "y_pred = []\n",
    "\n",
    "with torch.no_grad():\n",
    "    for x,y in tqdm(dataloader_val):\n",
    "        y = torch.argmax(y.float(), dim = 1)\n",
    "        output = net(x)\n",
    "        output = torch.argmax(output, dim = 1)\n",
    "        y_true.extend(y.tolist())\n",
    "        y_pred.extend(output.tolist())\n",
    "        acc += sum(output == y)\n",
    "        #loss = criterion(output, y.float())\n",
    "        #all_loss += loss.item()\n",
    "print(\"overall correctly classified: \" + str(acc / len(val_set)))\n",
    "confusion_matrix(y_true, y_pred)"
   ]
  },
  {
   "cell_type": "code",
   "execution_count": 39,
   "id": "ef427407",
   "metadata": {
    "ExecuteTime": {
     "end_time": "2021-08-24T09:23:48.216251Z",
     "start_time": "2021-08-24T09:23:48.207550Z"
    }
   },
   "outputs": [
    {
     "data": {
      "text/plain": [
       "tensor(0.8138)"
      ]
     },
     "execution_count": 39,
     "metadata": {},
     "output_type": "execute_result"
    }
   ],
   "source": [
    "acc/len(val_set)"
   ]
  },
  {
   "cell_type": "code",
   "execution_count": 42,
   "id": "aquatic-lucas",
   "metadata": {
    "ExecuteTime": {
     "end_time": "2021-08-24T09:24:25.458833Z",
     "start_time": "2021-08-24T09:24:25.451216Z"
    }
   },
   "outputs": [
    {
     "data": {
      "text/plain": [
       "tensor([ True,  True,  True,  True,  True,  True,  True, False,  True,  True,\n",
       "         True,  True,  True,  True,  True,  True,  True,  True,  True,  True,\n",
       "         True, False,  True,  True,  True,  True,  True,  True, False,  True,\n",
       "         True, False, False,  True,  True, False,  True, False,  True, False,\n",
       "        False,  True,  True,  True, False, False,  True,  True,  True,  True,\n",
       "         True,  True, False,  True,  True,  True,  True,  True,  True,  True,\n",
       "        False,  True])"
      ]
     },
     "execution_count": 42,
     "metadata": {},
     "output_type": "execute_result"
    }
   ],
   "source": [
    "output == y"
   ]
  },
  {
   "cell_type": "code",
   "execution_count": 40,
   "id": "discrete-notice",
   "metadata": {
    "ExecuteTime": {
     "end_time": "2021-08-24T09:24:07.695227Z",
     "start_time": "2021-08-24T09:24:07.685723Z"
    }
   },
   "outputs": [
    {
     "data": {
      "text/plain": [
       "tensor([0, 1, 2, 1, 1, 1, 1, 0, 1, 0, 1, 1, 1, 0, 1, 0, 1, 1, 0, 1, 0, 2, 1, 1,\n",
       "        0, 0, 0, 0, 1, 2, 1, 2, 0, 1, 0, 0, 0, 0, 1, 0, 1, 0, 0, 0, 0, 2, 0, 0,\n",
       "        2, 1, 1, 0, 1, 0, 2, 1, 1, 1, 0, 1, 1, 0])"
      ]
     },
     "execution_count": 40,
     "metadata": {},
     "output_type": "execute_result"
    }
   ],
   "source": [
    "output"
   ]
  },
  {
   "cell_type": "code",
   "execution_count": 41,
   "id": "loving-evans",
   "metadata": {
    "ExecuteTime": {
     "end_time": "2021-08-24T09:24:10.473890Z",
     "start_time": "2021-08-24T09:24:10.466513Z"
    }
   },
   "outputs": [
    {
     "data": {
      "text/plain": [
       "tensor([0, 1, 2, 1, 1, 1, 1, 1, 1, 0, 1, 1, 1, 0, 1, 0, 1, 1, 0, 1, 0, 1, 1, 1,\n",
       "        0, 0, 0, 0, 3, 2, 1, 3, 3, 1, 0, 3, 0, 1, 1, 1, 3, 0, 0, 0, 3, 3, 0, 0,\n",
       "        2, 1, 1, 0, 2, 0, 2, 1, 1, 1, 0, 1, 2, 0])"
      ]
     },
     "execution_count": 41,
     "metadata": {},
     "output_type": "execute_result"
    }
   ],
   "source": [
    "y"
   ]
  },
  {
   "cell_type": "code",
   "execution_count": null,
   "id": "liable-welding",
   "metadata": {},
   "outputs": [],
   "source": []
  }
 ],
 "metadata": {
  "kernelspec": {
   "display_name": "my-virtualenv-name",
   "language": "python",
   "name": "my-virtualenv-name"
  },
  "language_info": {
   "codemirror_mode": {
    "name": "ipython",
    "version": 3
   },
   "file_extension": ".py",
   "mimetype": "text/x-python",
   "name": "python",
   "nbconvert_exporter": "python",
   "pygments_lexer": "ipython3",
   "version": "3.9.6"
  }
 },
 "nbformat": 4,
 "nbformat_minor": 5
}
