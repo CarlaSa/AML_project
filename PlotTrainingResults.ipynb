{
 "cells": [
  {
   "cell_type": "code",
   "execution_count": null,
   "id": "291e7ef9",
   "metadata": {},
   "outputs": [],
   "source": [
    "import numpy as np\n",
    "import torch\n",
    "import random\n",
    "import json"
   ]
  },
  {
   "cell_type": "code",
   "execution_count": null,
   "id": "b4019218",
   "metadata": {},
   "outputs": [],
   "source": [
    "torch.manual_seed(42)\n",
    "random.seed(42)\n",
    "np.random.seed(42)"
   ]
  },
  {
   "cell_type": "code",
   "execution_count": null,
   "id": "e314f0b2",
   "metadata": {},
   "outputs": [],
   "source": [
    "import matplotlib.pyplot as plt\n",
    "from matplotlib import rc\n",
    "import os\n",
    "import ipywidgets as widgets\n",
    "\n",
    "\n",
    "# latex text in plots\n",
    "usetex = True\n",
    "if usetex:\n",
    "    rc('text', usetex=True)\n",
    "else:\n",
    "    rc('text', usetex=False)\n",
    "\n",
    "#change plt parameter globally \n",
    "plt.rcParams.update({'font.size': 18,\n",
    "                     'xtick.labelsize' : 16,\n",
    "                     'ytick.labelsize' : 16})"
   ]
  },
  {
   "cell_type": "code",
   "execution_count": null,
   "id": "f8f23584",
   "metadata": {},
   "outputs": [],
   "source": [
    "parent = \"_trainings\"\n",
    "children = sorted(os.listdir(parent), reverse=True)"
   ]
  },
  {
   "cell_type": "code",
   "execution_count": null,
   "id": "81f9664c",
   "metadata": {},
   "outputs": [],
   "source": [
    "widget = widgets.Dropdown(\n",
    "    options=children,\n",
    "    description='Directory:',\n",
    "    disabled=False,\n",
    ")\n",
    "widget"
   ]
  },
  {
   "cell_type": "code",
   "execution_count": null,
   "id": "008dcb5c",
   "metadata": {},
   "outputs": [],
   "source": [
    "path = os.path.join(parent, widget.value)\n",
    "print(\"Load results from \", path)"
   ]
  },
  {
   "cell_type": "code",
   "execution_count": null,
   "id": "4624eac7",
   "metadata": {},
   "outputs": [],
   "source": [
    "with open(os.path.join(path, \"net_config.json\")) as dict_file:\n",
    "    network_config = json.load(dict_file)\n",
    "print(network_config)"
   ]
  },
  {
   "cell_type": "code",
   "execution_count": null,
   "id": "cddfbb4a",
   "metadata": {},
   "outputs": [],
   "source": [
    "loss = np.load(os.path.join(path, \"loss.npy\"))\n",
    "dce = np.load(os.path.join(path, \"dce.npy\"))\n",
    "loss_val = np.load(os.path.join(path, \"loss_val.npy\"))\n",
    "dce_val = np.load(os.path.join(path, \"dce_val.npy\"))"
   ]
  },
  {
   "cell_type": "code",
   "execution_count": null,
   "id": "9942b48c",
   "metadata": {},
   "outputs": [],
   "source": [
    "print(np.mean(dce_val[80:]))"
   ]
  },
  {
   "cell_type": "code",
   "execution_count": null,
   "id": "6583fd5c",
   "metadata": {},
   "outputs": [],
   "source": [
    "n_ep = len(loss)\n",
    "epochs = np.arange(1,n_ep+1)\n",
    "print(\"Total number of epochs: \", n_ep)\n",
    "plt.figure()\n",
    "plt.plot(epochs, loss, label=\"Training\")\n",
    "plt.plot(epochs, loss_val, label=\"Validation\")\n",
    "#plt.legend()\n",
    "plt.xlabel(\"Epoch\")\n",
    "plt.ylabel(\"Mean Loss\")\n",
    "plt.show()\n",
    "plt.figure()\n",
    "plt.plot(epochs, dce, label=\"Training\")\n",
    "plt.plot(epochs, dce_val, label=\"Validation\")\n",
    "plt.legend()\n",
    "plt.xlabel(\"Epoch\")\n",
    "plt.ylabel(\"Mean Dice Score\")\n",
    "plt.show()"
   ]
  },
  {
   "cell_type": "code",
   "execution_count": null,
   "id": "41410c39",
   "metadata": {},
   "outputs": [],
   "source": [
    "save_image = False\n",
    "\n",
    "fig, ax1 = plt.subplots()\n",
    "\n",
    "color = \"C1\" #'tab:red'\n",
    "ax1.set_xlabel('Epoch')\n",
    "ax1.set_ylabel('Loss', color=color)\n",
    "ax1.plot(epochs, loss, \"--\", color=color)\n",
    "ax1.plot(epochs, loss_val, color=color)\n",
    "#ax1.tick_params(axis='y', labelcolor=color)\n",
    "#ax1.set_ylim(0.74,0.77)\n",
    "\n",
    "ax2 = ax1.twinx()  # instantiate a second axes that shares the same x-axis\n",
    "\n",
    "color = \"C0\" #'tab:blue'\n",
    "ax2.set_ylabel('Dice Score', color=color)  # we already handled the x-label with ax1\n",
    "ax2.plot(epochs, dce, \"--\", color=color)\n",
    "ax2.plot(epochs, dce_val, color=color)\n",
    "#ax2.tick_params(axis='y', labelcolor=color)\n",
    "#ax2.set_ylim(0.23,0.27)\n",
    "\n",
    "fig.tight_layout()  # otherwise the right y-label is slightly clipped\n",
    "if save_image:\n",
    "    plt.savefig(f\"images/{widget.value}.pdf\", bbox_inches='tight')\n",
    "plt.show()"
   ]
  },
  {
   "cell_type": "markdown",
   "id": "046ad6af",
   "metadata": {},
   "source": [
    "# Show Predictions"
   ]
  },
  {
   "cell_type": "code",
   "execution_count": null,
   "id": "d9a97846",
   "metadata": {},
   "outputs": [],
   "source": [
    "from datasets import LoadDataset, CustomOutput\n",
    "from datasets.custom_output import image_tensor, float_mask, bounding_boxes\n",
    "from torch.utils.data import DataLoader, Subset\n",
    "from trafo.randomize.default_augmentation import default_augmentation_only_geometric\n",
    "\n",
    "loaded_data = LoadDataset(\"_data/preprocessed256_new\", image_dtype=float,\n",
    "                          label_dtype=float)\n",
    "\n",
    "dataset_plain = CustomOutput(loaded_data, image_tensor, float_mask)\n",
    "dataset_aug = CustomOutput(loaded_data, image_tensor, bounding_boxes, trafo=default_augmentation_only_geometric)"
   ]
  },
  {
   "cell_type": "code",
   "execution_count": null,
   "id": "6585a9ca",
   "metadata": {},
   "outputs": [],
   "source": [
    "\"\"\"# get good split of dataset -> dividable by batch_size\n",
    "batch_size = 16\n",
    "l = len(dataset)\n",
    "x = l // (batch_size *6 )\n",
    "split = [x * batch_size * 5, l - x * batch_size * 5]\n",
    "print(split)\n",
    "train_set, val_set = torch.utils.data.random_split(dataset, split)\"\"\";\n",
    "\n",
    "from sklearn.model_selection import train_test_split\n",
    "\n",
    "batch_size = 16\n",
    "\n",
    "# get good split of dataset -> dividable by batch_size\n",
    "l = len(dataset_aug)\n",
    "indices = list(range(l))\n",
    "train_size = (l // (batch_size * 6)) * batch_size * 5\n",
    "val_size = l - train_size\n",
    "print(\"Training: \", train_size, \"Validation: \", val_size)\n",
    "train_indices, val_indices = train_test_split(indices, random_state=4, train_size=train_size, test_size=val_size)\n",
    "\n",
    "train_set = Subset(dataset_aug, train_indices)\n",
    "val_set = Subset(dataset_plain, val_indices)"
   ]
  },
  {
   "cell_type": "code",
   "execution_count": null,
   "id": "cc283233",
   "metadata": {},
   "outputs": [],
   "source": [
    "dataloader_train = DataLoader(train_set, batch_size=batch_size,\n",
    "                        shuffle=True, num_workers=0)#, pin_memory = True)\n",
    "dataloader_val = DataLoader(val_set, batch_size=batch_size,\n",
    "                        shuffle=True, num_workers=0, pin_memory = True)"
   ]
  },
  {
   "cell_type": "code",
   "execution_count": null,
   "id": "8e3d9e89",
   "metadata": {},
   "outputs": [],
   "source": [
    "from network.unet import Unet\n",
    "from network.Model import OurModel\n",
    "import torch.nn as nn"
   ]
  },
  {
   "cell_type": "code",
   "execution_count": null,
   "id": "bb699908",
   "metadata": {},
   "outputs": [],
   "source": [
    "criterion = nn.BCELoss() # use binary cross entropy loss!\n",
    "network = Unet(batch_norm=True)"
   ]
  },
  {
   "cell_type": "code",
   "execution_count": null,
   "id": "8914f804",
   "metadata": {},
   "outputs": [],
   "source": [
    "Model = OurModel(name = \"unet\", network= network, criterion= criterion, path_dir = path, lr = 0.001,\n",
    "                 verbose = True, segmentation=True, use_cuda=False)\n",
    "Model.load_weights(f\"/unet_e100.ckpt\")"
   ]
  },
  {
   "cell_type": "code",
   "execution_count": null,
   "id": "1e4609bb",
   "metadata": {
    "scrolled": false
   },
   "outputs": [],
   "source": [
    "for x,y in dataloader_val:\n",
    "    Model.network.eval()\n",
    "    y_hat = Model.network(x.float())\n",
    "    break\n",
    "\n",
    "y_hat = y_hat.cpu()\n",
    "y_hat = y_hat.detach().numpy()\n",
    "y = y.numpy()\n",
    "fig, ax = plt.subplots(len(y_hat),3, figsize=(10, 100))\n",
    "for i in range(len(y_hat)):\n",
    "    ax[i,0].imshow(y_hat[i])\n",
    "    ax[i,1].imshow(np.round(y_hat[i]))\n",
    "    ax[i,2].imshow(y.squeeze()[i])"
   ]
  }
 ],
 "metadata": {
  "kernelspec": {
   "display_name": "Python 3 (ipykernel)",
   "language": "python",
   "name": "python3"
  },
  "language_info": {
   "codemirror_mode": {
    "name": "ipython",
    "version": 3
   },
   "file_extension": ".py",
   "mimetype": "text/x-python",
   "name": "python",
   "nbconvert_exporter": "python",
   "pygments_lexer": "ipython3",
   "version": "3.8.10"
  }
 },
 "nbformat": 4,
 "nbformat_minor": 5
}
