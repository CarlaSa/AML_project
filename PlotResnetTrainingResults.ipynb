{
 "cells": [
  {
   "cell_type": "code",
   "execution_count": 8,
   "id": "291e7ef9",
   "metadata": {},
   "outputs": [],
   "source": [
    "import numpy as np\n",
    "import torch\n",
    "import random\n",
    "import json"
   ]
  },
  {
   "cell_type": "code",
   "execution_count": 9,
   "id": "b4019218",
   "metadata": {},
   "outputs": [],
   "source": [
    "torch.manual_seed(42)\n",
    "random.seed(42)\n",
    "np.random.seed(42)"
   ]
  },
  {
   "cell_type": "code",
   "execution_count": 10,
   "id": "e314f0b2",
   "metadata": {},
   "outputs": [],
   "source": [
    "import matplotlib.pyplot as plt\n",
    "from matplotlib import rc\n",
    "import os\n",
    "import ipywidgets as widgets\n",
    "\n",
    "\n",
    "# latex text in plots\n",
    "usetex = True\n",
    "if usetex:\n",
    "    rc('text', usetex=True)\n",
    "else:\n",
    "    rc('text', usetex=False)\n",
    "\n",
    "#change plt parameter globally \n",
    "plt.rcParams.update({'font.size': 18,\n",
    "                     'xtick.labelsize' : 16,\n",
    "                     'ytick.labelsize' : 16})"
   ]
  },
  {
   "cell_type": "code",
   "execution_count": 15,
   "id": "f8f23584",
   "metadata": {},
   "outputs": [
    {
     "name": "stdout",
     "output_type": "stream",
     "text": [
      "Load results from  _weights/resnet1111_lr1e-3_20-09\n"
     ]
    }
   ],
   "source": [
    "parent = \"_weights\"\n",
    "children = \"resnet1111_20-09\"\n",
    "children = \"resnet1111_lr1e-3_20-09\"\n",
    "\n",
    "path = os.path.join(parent, children)\n",
    "print(\"Load results from \", path)"
   ]
  },
  {
   "cell_type": "code",
   "execution_count": 16,
   "id": "4624eac7",
   "metadata": {},
   "outputs": [
    {
     "name": "stdout",
     "output_type": "stream",
     "text": [
      "{'network': 'ResNet', 'optimizer': 'Adam', 'batch_size': 64, 'learning_rate': 0.001, 'loss': 'BCELoss'}\n"
     ]
    }
   ],
   "source": [
    "with open(path + \"_net_config.json\") as dict_file:\n",
    "    network_config = json.load(dict_file)\n",
    "print(network_config)"
   ]
  },
  {
   "cell_type": "code",
   "execution_count": 17,
   "id": "cddfbb4a",
   "metadata": {},
   "outputs": [],
   "source": [
    "loss = np.load(path + \"_loss.npy\")\n",
    "loss_val = np.load(path + \"_loss_val.npy\")"
   ]
  },
  {
   "cell_type": "code",
   "execution_count": 18,
   "id": "6583fd5c",
   "metadata": {},
   "outputs": [
    {
     "name": "stdout",
     "output_type": "stream",
     "text": [
      "Total number of epochs:  24\n"
     ]
    },
    {
     "data": {
      "image/png": "[encoded data removed]",
      "text/plain": [
       "<Figure size 432x288 with 1 Axes>"
      ]
     },
     "metadata": {
      "needs_background": "light"
     },
     "output_type": "display_data"
    }
   ],
   "source": [
    "n_ep = len(loss)\n",
    "epochs = np.arange(1,n_ep+1)\n",
    "print(\"Total number of epochs: \", n_ep)\n",
    "plt.figure()\n",
    "plt.plot(epochs, loss, label=\"Training\")\n",
    "plt.plot(epochs, loss_val, label=\"Validation\")\n",
    "plt.legend()\n",
    "plt.xlabel(\"Epoch\")\n",
    "plt.ylabel(\"Mean Loss\")\n",
    "plt.show()"
   ]
  },
  {
   "cell_type": "code",
   "execution_count": null,
   "id": "41410c39",
   "metadata": {},
   "outputs": [],
   "source": [
    "save_image = False\n",
    "\n",
    "fig, ax1 = plt.subplots()\n",
    "\n",
    "color = \"C1\" #'tab:red'\n",
    "ax1.set_xlabel('Epoch')\n",
    "ax1.set_ylabel('Loss', color=color)\n",
    "ax1.plot(epochs, loss, \"--\", color=color)\n",
    "ax1.plot(epochs, loss_val, color=color)\n",
    "#ax1.tick_params(axis='y', labelcolor=color)\n",
    "#ax1.set_ylim(0.74,0.77)\n",
    "\n",
    "ax2 = ax1.twinx()  # instantiate a second axes that shares the same x-axis\n",
    "\n",
    "color = \"C0\" #'tab:blue'\n",
    "ax2.set_ylabel('Dice Score', color=color)  # we already handled the x-label with ax1\n",
    "ax2.plot(epochs, dce, \"--\", color=color)\n",
    "ax2.plot(epochs, dce_val, color=color)\n",
    "#ax2.tick_params(axis='y', labelcolor=color)\n",
    "#ax2.set_ylim(0.23,0.27)\n",
    "\n",
    "fig.tight_layout()  # otherwise the right y-label is slightly clipped\n",
    "if save_image:\n",
    "    plt.savefig(f\"images/{widget.value}.pdf\", bbox_inches='tight')\n",
    "plt.show()"
   ]
  }
 ],
 "metadata": {
  "kernelspec": {
   "display_name": "Python 3 (ipykernel)",
   "language": "python",
   "name": "python3"
  },
  "language_info": {
   "codemirror_mode": {
    "name": "ipython",
    "version": 3
   },
   "file_extension": ".py",
   "mimetype": "text/x-python",
   "name": "python",
   "nbconvert_exporter": "python",
   "pygments_lexer": "ipython3",
   "version": "3.8.10"
  }
 },
 "nbformat": 4,
 "nbformat_minor": 5
}
