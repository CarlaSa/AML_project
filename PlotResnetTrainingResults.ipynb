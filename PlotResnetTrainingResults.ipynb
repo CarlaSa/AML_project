{
 "cells": [
  {
   "cell_type": "markdown",
   "id": "9406dcf3",
   "metadata": {},
   "source": [
    "Get Data on your Computer without big ckpt files:\n",
    "\n",
    "    home/woAuchImmer/AML_project$ rsync -azP --exclude \"*.ckpt\" cluster:AML_project/_weights/ _weights/\n",
    "    \n",
    "with big ckpt files:\n",
    "    \n",
    "    home/woAuchImmer/AML_project$ rsync -azP cluster:AML_project/_weights/ _weights/\n"
   ]
  },
  {
   "cell_type": "code",
   "execution_count": 1,
   "id": "291e7ef9",
   "metadata": {},
   "outputs": [],
   "source": [
    "import numpy as np\n",
    "import torch\n",
    "import random\n",
    "import json"
   ]
  },
  {
   "cell_type": "code",
   "execution_count": 2,
   "id": "b4019218",
   "metadata": {},
   "outputs": [],
   "source": [
    "torch.manual_seed(42)\n",
    "random.seed(42)\n",
    "np.random.seed(42)"
   ]
  },
  {
   "cell_type": "code",
   "execution_count": 3,
   "id": "e314f0b2",
   "metadata": {},
   "outputs": [],
   "source": [
    "import matplotlib.pyplot as plt\n",
    "from matplotlib import rc\n",
    "import os\n",
    "import ipywidgets as widgets\n",
    "\n",
    "\n",
    "# latex text in plots\n",
    "usetex = True\n",
    "if usetex:\n",
    "    rc('text', usetex=True)\n",
    "else:\n",
    "    rc('text', usetex=False)\n",
    "\n",
    "#change plt parameter globally \n",
    "plt.rcParams.update({'font.size': 18,\n",
    "                     'xtick.labelsize' : 16,\n",
    "                     'ytick.labelsize' : 16})"
   ]
  },
  {
   "cell_type": "code",
   "execution_count": 66,
   "id": "f8f23584",
   "metadata": {},
   "outputs": [
    {
     "name": "stdout",
     "output_type": "stream",
     "text": [
      "Load results from  _weights/resnet18_orig_tr=6_09_21\n"
     ]
    }
   ],
   "source": [
    "parent = \"_weights\"\n",
    "#children = \"resnet1111_20-09\"\n",
    "#children = \"resnet1111_lr1e-3_20-09\"\n",
    "#children = \"resnet1111_21-09\"\n",
    "#children = \"resnet1111_21-09_trafo\"\n",
    "#children = \"resnet18_orig_tr=6_09_21\"\n",
    "#children = \"resnet50_orig_ntr_09_21\"\n",
    "#children = \"resnet50_orig_tr=6_09_22\"\n",
    "#children = \"resnet18_orig_tr=all_09_22\"\n",
    "#children = \"resnet50_orig_tr6_09_22\"\n",
    "#children = \"resnet50_orig_tr6_lr01_09_22\"\n",
    "\n",
    "path = os.path.join(parent, children)\n",
    "print(\"Load results from \", path)"
   ]
  },
  {
   "cell_type": "code",
   "execution_count": 67,
   "id": "4624eac7",
   "metadata": {},
   "outputs": [
    {
     "name": "stdout",
     "output_type": "stream",
     "text": [
      "{'network': 'ResnetOriginal', 'optimizer': 'Adam', 'adam_regul_factor': 0.001, 'batch_size': 64, 'learning_rate': 0.01, 'loss': 'BCELoss'}\n"
     ]
    }
   ],
   "source": [
    "with open(path + \"_net_config.json\") as dict_file:\n",
    "    network_config = json.load(dict_file)\n",
    "print(network_config)"
   ]
  },
  {
   "cell_type": "code",
   "execution_count": 62,
   "id": "cddfbb4a",
   "metadata": {},
   "outputs": [],
   "source": [
    "loss = np.load(path + \"_loss.npy\")\n",
    "loss_val = np.load(path + \"_loss_val.npy\")"
   ]
  },
  {
   "cell_type": "code",
   "execution_count": 63,
   "id": "6583fd5c",
   "metadata": {},
   "outputs": [
    {
     "name": "stdout",
     "output_type": "stream",
     "text": [
      "Total number of epochs:  18\n"
     ]
    },
    {
     "data": {
      "image/png": "[encoded data removed]",
      "text/plain": [
       "<Figure size 432x288 with 1 Axes>"
      ]
     },
     "metadata": {
      "needs_background": "light"
     },
     "output_type": "display_data"
    }
   ],
   "source": [
    "save_image = False\n",
    "n_ep = len(loss)\n",
    "epochs = np.arange(1,n_ep+1)\n",
    "print(\"Total number of epochs: \", n_ep)\n",
    "plt.figure()\n",
    "plt.plot(epochs, loss, label=\"Training\")\n",
    "plt.plot(epochs, loss_val, label=\"Validation\")\n",
    "plt.legend()\n",
    "plt.xlabel(\"Epoch\")\n",
    "plt.ylabel(\"Mean Loss\")\n",
    "\n",
    "if save_image:\n",
    "    plt.savefig(f\"images/{widget.value}.pdf\", bbox_inches='tight')\n",
    "plt.show()"
   ]
  },
  {
   "cell_type": "code",
   "execution_count": null,
   "id": "3eae1f5a",
   "metadata": {},
   "outputs": [],
   "source": []
  }
 ],
 "metadata": {
  "kernelspec": {
   "display_name": "Python 3 (ipykernel)",
   "language": "python",
   "name": "python3"
  },
  "language_info": {
   "codemirror_mode": {
    "name": "ipython",
    "version": 3
   },
   "file_extension": ".py",
   "mimetype": "text/x-python",
   "name": "python",
   "nbconvert_exporter": "python",
   "pygments_lexer": "ipython3",
   "version": "3.8.10"
  }
 },
 "nbformat": 4,
 "nbformat_minor": 5
}
